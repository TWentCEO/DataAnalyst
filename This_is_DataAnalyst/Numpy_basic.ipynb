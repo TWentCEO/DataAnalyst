{
 "cells": [
  {
   "cell_type": "code",
   "execution_count": 1,
   "id": "69d5aff0",
   "metadata": {},
   "outputs": [],
   "source": [
    "import numpy as np"
   ]
  },
  {
   "cell_type": "code",
   "execution_count": 2,
   "id": "b27dc075",
   "metadata": {},
   "outputs": [
    {
     "data": {
      "text/plain": [
       "array([[ 0,  1,  2,  3,  4],\n",
       "       [ 5,  6,  7,  8,  9],\n",
       "       [10, 11, 12, 13, 14]])"
      ]
     },
     "execution_count": 2,
     "metadata": {},
     "output_type": "execute_result"
    }
   ],
   "source": [
    "# 15개의 숫자를 (3,5)차원으로 생성\n",
    "arr1 = np.arange(15).reshape(3,5)\n",
    "arr1"
   ]
  },
  {
   "cell_type": "code",
   "execution_count": 5,
   "id": "bc6a0d23",
   "metadata": {},
   "outputs": [
    {
     "name": "stdout",
     "output_type": "stream",
     "text": [
      "(3, 5)\n",
      "int64\n"
     ]
    }
   ],
   "source": [
    "# 넘파이 배열 정보 확인\n",
    "print(arr1.shape) # 데이터 차원 확인\n",
    "print(arr1.dtype) # 데이터 타입 확인"
   ]
  },
  {
   "cell_type": "code",
   "execution_count": 7,
   "id": "a5449ecd",
   "metadata": {},
   "outputs": [
    {
     "data": {
      "text/plain": [
       "array([[0., 0., 0., 0.],\n",
       "       [0., 0., 0., 0.],\n",
       "       [0., 0., 0., 0.]])"
      ]
     },
     "execution_count": 7,
     "metadata": {},
     "output_type": "execute_result"
    }
   ],
   "source": [
    "# 0으로 채워진 배열 생성\n",
    "arr2 = np.zeros((3,4))\n",
    "arr2"
   ]
  },
  {
   "cell_type": "code",
   "execution_count": 13,
   "id": "53271863",
   "metadata": {},
   "outputs": [
    {
     "name": "stdout",
     "output_type": "stream",
     "text": [
      "arr3 + arr4 =  \n",
      " [[ 8. 10. 12.]\n",
      " [14. 16. 18.]] \n",
      "\n",
      "arr3 - arr4 =  \n",
      " [[-6. -6. -6.]\n",
      " [-6. -6. -6.]] \n",
      "\n",
      "arr3 * arr4 =  \n",
      " [[ 7. 16. 27.]\n",
      " [40. 55. 72.]] \n",
      "\n",
      "arr3 / arr4 =  \n",
      " [[0.14285714 0.25       0.33333333]\n",
      " [0.4        0.45454545 0.5       ]] \n",
      "\n"
     ]
    }
   ],
   "source": [
    "# 넘파이 배열 생성\n",
    "arr3 = np.array([[1,2,3],[4,5,6]], dtype = np.float64)\n",
    "arr4 = np.array([[7,8,9],[10,11,12]], dtype = np.float64)\n",
    "\n",
    "# 사칙연산 출력\n",
    "print(\"arr3 + arr4 = \",'\\n', arr3 + arr4,\"\\n\")\n",
    "print(\"arr3 - arr4 = \",'\\n', arr3 - arr4,\"\\n\")\n",
    "print(\"arr3 * arr4 = \",'\\n', arr3 * arr4,\"\\n\")\n",
    "print(\"arr3 / arr4 = \",'\\n', arr3 / arr4,\"\\n\")"
   ]
  }
 ],
 "metadata": {
  "kernelspec": {
   "display_name": "Python 3 (ipykernel)",
   "language": "python",
   "name": "python3"
  },
  "language_info": {
   "codemirror_mode": {
    "name": "ipython",
    "version": 3
   },
   "file_extension": ".py",
   "mimetype": "text/x-python",
   "name": "python",
   "nbconvert_exporter": "python",
   "pygments_lexer": "ipython3",
   "version": "3.7.11"
  }
 },
 "nbformat": 4,
 "nbformat_minor": 5
}
